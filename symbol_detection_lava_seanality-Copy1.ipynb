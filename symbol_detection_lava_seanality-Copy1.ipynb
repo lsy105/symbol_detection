{
 "cells": [
  {
   "cell_type": "code",
   "execution_count": 2,
   "id": "138b6027",
   "metadata": {},
   "outputs": [
    {
     "name": "stdout",
     "output_type": "stream",
     "text": [
      "The autoreload extension is already loaded. To reload it, use:\n",
      "  %reload_ext autoreload\n",
      "cpu\n",
      "init done\n"
     ]
    }
   ],
   "source": [
    "%load_ext autoreload\n",
    "%autoreload 2\n",
    "import os\n",
    "import random\n",
    "import numpy as np\n",
    "import matplotlib.pyplot as plt\n",
    "from matplotlib.gridspec import GridSpec\n",
    "#import seaborn as sns\n",
    "import sys\n",
    "sys.path.append('../../')\n",
    "from dataset import Dataset, SpikingDataset, RegSpikingDataset\n",
    "from torch.utils.data.dataloader import DataLoader\n",
    "from Loss import KDLoss\n",
    "import torch\n",
    "import torch.nn.functional as F\n",
    "import torch.nn as nn\n",
    "import torchvision\n",
    "random.seed(1338)\n",
    "import scipy.io\n",
    "import numpy as np\n",
    "import matplotlib.pyplot as plt\n",
    "import copy\n",
    "from pyESN import ESN\n",
    "from scipy import interpolate\n",
    "from gen_data import *\n",
    "from tanh import tanh\n",
    "\n",
    "import os\n",
    "import h5py\n",
    "import numpy as np\n",
    "import matplotlib.pyplot as plt\n",
    "import torch\n",
    "from torch.utils.data import Dataset, DataLoader\n",
    "\n",
    "# import slayer from lava-dl\n",
    "import lava.lib.dl.slayer as slayer\n",
    "\n",
    "import IPython.display as display\n",
    "from matplotlib import animation\n",
    "\n",
    "\n",
    "%load_ext autoreload\n",
    "\n",
    "%autoreload 2\n",
    "\n",
    "torch.__version__\n",
    "# The coarse network structure is dicated by the Fashion MNIST dataset. \n",
    "dtype = torch.float\n",
    "\n",
    "# Check whether a GPU is available\n",
    "if torch.cuda.is_available():\n",
    "    device = torch.device('cuda:1')\n",
    "    #device = torch.device(\"cuda\")     \n",
    "else:\n",
    "    device = torch.device(\"cpu\")\n",
    "    \n",
    "print(device)\n",
    "tau_mem = 10e-3\n",
    "tau_syn = 5e-3\n",
    "time_step = 1e-3\n",
    "alpha   = float(np.exp(-time_step/tau_syn))\n",
    "beta    = float(np.exp(-time_step/tau_mem))\n",
    "\n",
    "weight_scale = 7*(1.0-beta) # this should give us some spikes to begin with\n",
    "\n",
    "print(\"init done\")"
   ]
  },
  {
   "cell_type": "code",
   "execution_count": 8,
   "id": "663fb05d",
   "metadata": {},
   "outputs": [
    {
     "name": "stdout",
     "output_type": "stream",
     "text": [
      "-0.002001994614988907 2.1725821153006826\n"
     ]
    }
   ],
   "source": [
    "silent = True\n",
    "method = 'RLS'  # RLS; INV; INV+RLS\n",
    "# N_total_frame = 17\n",
    "N_total_frame = 94\n",
    "N_sync_frame = 4\n",
    "# SNR_list = np.arange(1,20,2)\n",
    "SNR_list = [1000]\n",
    "\n",
    "# Dataset selection\n",
    "folder_name = 'data/S2/'  # LOS_Near:S2, LOS_Far:S3, NLOS:S1\n",
    "output_folder = 'data_outputs/S1'\n",
    "\n",
    "if folder_name == 'data/S1/':  # NLOS\n",
    "    delay = 0\n",
    "    packet_num = 21\n",
    "elif folder_name == 'data/S2/':  # LOS_Near\n",
    "    delay = 1\n",
    "    packet_num = 27 # correct\n",
    "elif folder_name == 'data/S3/':  # LOS_Far\n",
    "    delay = 1\n",
    "    packet_num = 22 # 23c\n",
    "else:\n",
    "    print(\"Undefined Dataset\")\n",
    "    exit(1)\n",
    "    \n",
    "window_size = 2\n",
    "N_reservoir = 16\n",
    "debug = False\n",
    "\n",
    "ber_record = []\n",
    "dfe_ber_record = []\n",
    "LS_ber_record = []\n",
    "comb_ber_record = []\n",
    "sta_ber_record = []\n",
    "tanh_lut = tanh(\n",
    "    input_bit=8,\n",
    "    dx_bit=8,\n",
    "    slope_fmt=(10, 10),\n",
    "    intercept_fmt=(19, 19),\n",
    "    max=8,\n",
    "    better_lut=True,\n",
    "    verbose=False,\n",
    "    plot=False)\n",
    "\n",
    "SNR = SNR_list[0]\n",
    "i = 0\n",
    "rc = RC(silent, method, N_total_frame, N_sync_frame, SNR, delay, window_size, i,\n",
    "        N_reservoir=16,\n",
    "        spectral_radius=0.2,\n",
    "        sparsity=0.4,\n",
    "        noise=1e-6,\n",
    "        lut_activation=False,  # True,\n",
    "        tanh_lut=tanh_lut,\n",
    "        input_scale=25,  #40, #50, # 25,\n",
    "        reservoir_input_scale = 8,  #4,  #5,\n",
    "        show_wout=False,\n",
    "        output_folder= output_folder,\n",
    "        debug=debug,\n",
    "        use_fpga= None,\n",
    "        sock= None,  # usock\n",
    "        addr = None) # addr\n",
    "\n",
    "train_input, train_label, test_input, test_label = rc.run()\n",
    "train_mean = np.mean(train_input)\n",
    "train_std = np.std(train_input)\n",
    "print(np.mean(10 * train_label), np.std(10 * train_label))\n",
    "train_input = (train_input - train_mean) / train_std\n",
    "test_input = (test_input - train_mean) / train_std"
   ]
  },
  {
   "cell_type": "code",
   "execution_count": 6,
   "id": "78eac4b8-76d3-4da9-b203-1370b97ff0a3",
   "metadata": {},
   "outputs": [
    {
     "data": {
      "text/plain": [
       "0.36951754385964913"
      ]
     },
     "execution_count": 6,
     "metadata": {},
     "output_type": "execute_result"
    }
   ],
   "source": [
    "noise = np.random.normal(0, np.sqrt(0.034), train_label[-1520:, :].shape)\n",
    "pred_freq = rc.time_to_freq(25 * noise + 25 * train_label[-1520:, :], 19, remove_delay=False)\n",
    "target_freq = rc.time_to_freq(25 * train_label[-1520:, :], 19, remove_delay=False)\n",
    "rc.my_new_test(pred_freq, target_freq)"
   ]
  },
  {
   "cell_type": "code",
   "execution_count": 4,
   "id": "61a8c5cc",
   "metadata": {},
   "outputs": [
    {
     "name": "stdout",
     "output_type": "stream",
     "text": [
      "(7521, 4)\n",
      "(7521, 4)\n",
      "[[ 0.          0.        ]\n",
      " [ 0.36799005  0.36799005]\n",
      " [-1.05954977  0.01871674]\n",
      " ...\n",
      " [-0.11784918 -0.02450429]\n",
      " [ 0.04877258 -0.2078674 ]\n",
      " [ 0.19325261  0.22048032]]\n",
      "(89, 64)\n"
     ]
    }
   ],
   "source": [
    "print(train_input.shape)\n",
    "print(test_input.shape)\n",
    "print(train_label)\n",
    "print(test_label.shape)"
   ]
  },
  {
   "cell_type": "code",
   "execution_count": 12,
   "id": "845d6497-b2dc-4013-b04e-efe996f56b06",
   "metadata": {},
   "outputs": [
    {
     "name": "stderr",
     "output_type": "stream",
     "text": [
      "/home/studio-lab-user/.conda/envs/d2l/lib/python3.8/site-packages/statsmodels/graphics/tsaplots.py:348: FutureWarning: The default method 'yw' can produce PACF values outside of the [-1,1] interval. After 0.13, the default will change tounadjusted Yule-Walker ('ywm'). You can use this method now by setting method='ywm'.\n",
      "  warnings.warn(\n"
     ]
    },
    {
     "data": {
      "image/png": "[encoded data removed]",
      "text/plain": [
       "<Figure size 432x288 with 1 Axes>"
      ]
     },
     "metadata": {
      "needs_background": "light"
     },
     "output_type": "display_data"
    },
    {
     "data": {
      "image/png": "[encoded data removed]",
      "text/plain": [
       "<Figure size 432x288 with 1 Axes>"
      ]
     },
     "metadata": {
      "needs_background": "light"
     },
     "output_type": "display_data"
    }
   ],
   "source": [
    "import pandas as pd\n",
    "import seaborn as sns\n",
    "from statsmodels.graphics.tsaplots import plot_pacf\n",
    "\n",
    "train_label_A = pd.DataFrame(train_label, columns = ['A','B'])\n",
    "train_label_A['L1_idx'] = train_label_A.index % 8\n",
    "sns.lineplot(data=train_label_A.loc[376:, :], x = 'L1_idx', y = 'A')\n",
    "plot_pacf(train_label_A.loc[:, 'A'], lags=10);"
   ]
  },
  {
   "cell_type": "code",
   "execution_count": 13,
   "id": "95c36a2e-8d67-43b5-8eec-c941af4e06df",
   "metadata": {},
   "outputs": [
    {
     "name": "stdout",
     "output_type": "stream",
     "text": [
      "          A  L1_idx\n",
      "0  0.003657       0\n",
      "1  0.001378       1\n",
      "2 -0.001017       2\n",
      "3 -0.003145       3\n",
      "4 -0.003846       4\n",
      "5 -0.002800       5\n",
      "6 -0.000484       6\n",
      "7  0.002053       7\n",
      "          A         B  L1_idx\n",
      "0  0.000000  0.000000       0\n",
      "1  0.367990  0.367990       1\n",
      "2 -1.059550  0.018717       2\n",
      "3 -0.107782 -0.628198       3\n",
      "4  1.142042 -0.101209       4\n",
      "         A_x         B  L1_idx       A_y\n",
      "0   0.000000  0.000000       0  0.003657\n",
      "1   0.367990  0.367990       1  0.001378\n",
      "2  -1.059550  0.018717       2 -0.001017\n",
      "3  -0.107782 -0.628198       3 -0.003145\n",
      "4   1.142042 -0.101209       4 -0.003846\n",
      "5   0.735980  0.000000       5 -0.002800\n",
      "6   1.142042 -0.101209       6 -0.000484\n",
      "7  -0.107782 -0.628198       7  0.002053\n",
      "8  -1.059550  0.018717       0  0.003657\n",
      "9   0.367990  0.367990       1  0.001378\n",
      "10  0.018717 -1.059550       2 -0.001017\n",
      "11 -0.628198 -0.107782       3 -0.003145\n",
      "12 -0.101209  1.142042       4 -0.003846\n",
      "13  0.000000  0.735980       5 -0.002800\n",
      "14 -0.101209  1.142042       6 -0.000484\n",
      "15 -0.628198 -0.107782       7  0.002053\n",
      "16  0.018717 -1.059550       0  0.003657\n",
      "17  0.367990  0.367990       1  0.001378\n",
      "18 -1.059550  0.018717       2 -0.001017\n",
      "19 -0.107782 -0.628198       3 -0.003145\n"
     ]
    }
   ],
   "source": [
    "mapping = train_label_A.loc[330:, :].groupby(by='L1_idx').mean().reset_index().loc[:, ['A', 'L1_idx']]\n",
    "print(mapping.head(10))\n",
    "print(train_label_A.head())\n",
    "A = train_label_A.merge(mapping, how='left', on='L1_idx')\n",
    "print(A.head(20))"
   ]
  },
  {
   "cell_type": "code",
   "execution_count": 27,
   "id": "18144d2d-0cbb-4002-8219-9dbef68e1b5c",
   "metadata": {},
   "outputs": [
    {
     "name": "stdout",
     "output_type": "stream",
     "text": [
      "           1         2         3         4  L_0  L_1  L_2  L_3  L_4  L_5  L_6  \\\n",
      "0   0.004552  0.004552 -1.884776  0.275000    1    0    0    0    0    0    0   \n",
      "1  -1.884776  0.275000  0.812125 -5.124172    0    1    0    0    0    0    0   \n",
      "2   0.812125 -5.124172  2.434546  1.352755    0    0    1    0    0    0    0   \n",
      "3   2.434546  1.352755  0.278084  5.132741    0    0    0    1    0    0    0   \n",
      "4   0.278084  5.132741  0.007751  3.783358    0    0    0    0    1    0    0   \n",
      "5   0.007751  3.783358  1.358923  4.861682    0    0    0    0    0    1    0   \n",
      "6   1.358923  4.861682  2.700651 -2.697641    0    0    0    0    0    0    1   \n",
      "7   2.700651 -2.697641 -1.350162 -4.042453    0    0    0    0    0    0    0   \n",
      "8  -1.350162 -4.042453 -0.261935  2.434163    0    0    0    0    0    0    0   \n",
      "9  -0.261935  2.434163  5.130832 -1.352979    1    0    0    0    0    0    0   \n",
      "10  5.130832 -1.352979 -1.619047 -2.421936    0    1    0    0    0    0    0   \n",
      "11 -1.619047 -2.421936 -5.123821  0.013958    0    0    1    0    0    0    0   \n",
      "12 -5.123821  0.013958 -4.043629  0.282463    0    0    0    1    0    0    0   \n",
      "13 -4.043629  0.282463 -4.855616 -0.794909    0    0    0    0    1    0    0   \n",
      "14 -4.855616 -0.794909  1.887248 -2.968768    0    0    0    0    0    1    0   \n",
      "15  1.887248 -2.968768  3.785290  0.805231    0    0    0    0    0    0    1   \n",
      "16  3.785290  0.805231 -1.883475  0.549178    0    0    0    0    0    0    0   \n",
      "17 -1.883475  0.549178  0.530632 -5.125258    0    0    0    0    0    0    0   \n",
      "18  0.530632 -5.125258  2.705974  0.806677    1    0    0    0    0    0    0   \n",
      "19  2.705974  0.806677  0.559574  5.131311    0    1    0    0    0    0    0   \n",
      "\n",
      "    L_7  L_8  idx  \n",
      "0     0    0    0  \n",
      "1     0    0    1  \n",
      "2     0    0    2  \n",
      "3     0    0    3  \n",
      "4     0    0    4  \n",
      "5     0    0    5  \n",
      "6     0    0    6  \n",
      "7     1    0    7  \n",
      "8     0    1    8  \n",
      "9     0    0    9  \n",
      "10    0    0   10  \n",
      "11    0    0   11  \n",
      "12    0    0   12  \n",
      "13    0    0   13  \n",
      "14    0    0   14  \n",
      "15    0    0   15  \n",
      "16    1    0   16  \n",
      "17    0    1   17  \n",
      "18    0    0   18  \n",
      "19    0    0   19  \n",
      "(7521, 14)\n",
      "          1         2         3         4  L_0  L_1  L_2  L_3  L_4  L_5  L_6  \\\n",
      "0  0.004552  0.004552 -1.884776  0.275000    1    0    0    0    0    0    0   \n",
      "1 -1.884776  0.275000  0.812125 -5.124172    0    1    0    0    0    0    0   \n",
      "2  0.812125 -5.124172  2.434546  1.352755    0    0    1    0    0    0    0   \n",
      "3  2.434546  1.352755  0.278084  5.132741    0    0    0    1    0    0    0   \n",
      "4  0.278084  5.132741  0.007751  3.783358    0    0    0    0    1    0    0   \n",
      "\n",
      "   L_7  L_8  idx  \n",
      "0    0    0    0  \n",
      "1    0    0    1  \n",
      "2    0    0    2  \n",
      "3    0    0    3  \n",
      "4    0    0    4  \n",
      "(7521, 14)\n"
     ]
    },
    {
     "data": {
      "image/png": "[encoded data removed]",
      "text/plain": [
       "<Figure size 432x288 with 1 Axes>"
      ]
     },
     "metadata": {
      "needs_background": "light"
     },
     "output_type": "display_data"
    }
   ],
   "source": [
    "import pandas as pd\n",
    "import seaborn as sns\n",
    "\n",
    "df = pd.DataFrame(train_label, columns = ['1','2'])\n",
    "sns.lineplot(data=df.iloc[1000:1020, :], x=df.iloc[1000:1020, :].index, y='1')\n",
    "\n",
    "train_df = pd.DataFrame(train_input, columns = ['1','2', '3', '4'])\n",
    "train_df['L1_idx'] = train_df.index % 9\n",
    "train_df = pd.get_dummies(train_df, prefix=['L'], columns=['L1_idx'])\n",
    "train_df['idx'] = train_df.index\n",
    "print(train_df.head(20))\n",
    "train_input = train_df.to_numpy()\n",
    "print(train_input.shape)\n",
    "\n",
    "test_df = pd.DataFrame(test_input, columns = ['1','2', '3', '4'])\n",
    "test_df['L1_idx'] = test_df.index % 9\n",
    "test_df = pd.get_dummies(test_df, prefix=['L'], columns=['L1_idx'])\n",
    "test_df['idx'] = test_df.index\n",
    "print(test_df.head())\n",
    "test_input = test_df.to_numpy()\n",
    "print(test_input.shape)"
   ]
  },
  {
   "cell_type": "code",
   "execution_count": 28,
   "id": "0acdc9ec",
   "metadata": {},
   "outputs": [
    {
     "name": "stdout",
     "output_type": "stream",
     "text": [
      "7521\n",
      "(32, 100)\n",
      "(1,)\n",
      "(10,)\n",
      "(2,)\n"
     ]
    }
   ],
   "source": [
    "nb_inputs  = 8\n",
    "nb_hidden  = 96\n",
    "nb_outputs = 2\n",
    "\n",
    "time_step = 1e-3\n",
    "nb_steps  = 100\n",
    "\n",
    "batch_size = 128\n",
    "\n",
    "import scipy.io\n",
    "\n",
    "from dataset import Dataset, RegTorchSeasonalitySpikingDataset, RegSpikingDataset, RegTorchSpikingDataset\n",
    "train_data = RegTorchSeasonalitySpikingDataset(train_input, train_label, nb_inputs, nb_steps)\n",
    "test_data = RegTorchSeasonalitySpikingDataset(test_input, train_label, nb_inputs, nb_steps)\n",
    "train_loader = DataLoader(dataset=train_data, batch_size=batch_size, shuffle=True)\n",
    "print(len(train_data))\n",
    "print(train_data[0][0].shape)\n",
    "print(train_data[0][1].shape)\n",
    "print(train_data[0][2].shape)\n",
    "print(train_data[0][3].shape)"
   ]
  },
  {
   "cell_type": "code",
   "execution_count": 31,
   "id": "daf4c7af",
   "metadata": {},
   "outputs": [],
   "source": [
    "class Network(torch.nn.Module):\n",
    "    def __init__(self, input_size, output_size):\n",
    "        super(Network, self).__init__()\n",
    "\n",
    "       # neuron_params = {\n",
    "       #         'threshold'     : 0.1,\n",
    "       #         'current_decay' : 1,\n",
    "       #         'voltage_decay' : 0.1,\n",
    "       #         'requires_grad' : True,     \n",
    "       #     }\n",
    "        #neuron_params_drop = {**neuron_params, 'dropout' : slayer.neuron.Dropout(p=0.05),}\n",
    "        neuron_params = {\n",
    "                'threshold'     : 1.00,\n",
    "                'current_decay' : 0.25,\n",
    "                'voltage_decay' : 0.03,\n",
    "                'tau_grad'      : 0.03,\n",
    "                'scale_grad'    : 3,\n",
    "                'requires_grad' : True,     \n",
    "            }\n",
    "        \n",
    "        \n",
    "        self.blocks = torch.nn.ModuleList([\n",
    "                #slayer.block.cuba.Input(neuron_params),\n",
    "                slayer.block.cuba.Recurrent(neuron_params, input_size, 64, weight_norm=True, delay=True),\n",
    "                #slayer.block.cuba.Dense(neuron_params, 32, 64, weight_norm=True, delay=True),\n",
    "                slayer.block.cuba.Dense(neuron_params, 64, 128, weight_norm=True, delay=True),\n",
    "                slayer.block.cuba.Dense(neuron_params, 128, output_size, weight_norm=True),\n",
    "                #slayer.block.sigma_delta.Dense(sdnn_dense_params, input_size, 64, weight_scale=2, weight_norm=True),\n",
    "                #slayer.block.sigma_delta.Dense(sdnn_dense_params, 64, 128, weight_scale=2, weight_norm=True),\n",
    "                #slayer.block.sigma_delta.Dense(sdnn_dense_params, 128, output_size, weight_scale=2, weight_norm=True)\n",
    "                #slayer.block.cuba.Recurrent(cuba_params, 100, 50),\n",
    "                #slayer.block.cuba.KWTA(cuba_params, 50, 50, num_winners=5)\n",
    "            ])\n",
    "    \n",
    "    def forward(self, spike):\n",
    "        for block in self.blocks:\n",
    "            spike = block(spike)\n",
    "        return spike\n",
    "\n",
    "    def export_hdf5(self, filename):\n",
    "        # network export to hdf5 format\n",
    "        h = h5py.File(filename, 'w')\n",
    "        layer = h.create_group('layer')\n",
    "        for i, b in enumerate(self.blocks):\n",
    "            b.export_hdf5(layer.create_group(f'{i}'))\n",
    "\n",
    "class DNNNetwork(nn.Module):\n",
    "    def __init__(self, input_size, output_size):\n",
    "        super().__init__()\n",
    "\n",
    "        self.fc1 = nn.Linear(input_size, 16)\n",
    "        self.fc2 = nn.Linear(16 + 1 + 10, 8)\n",
    "        self.fc3 = nn.Linear(8, 2)\n",
    "        #self.fc3 = nn.Linear(128, 128)\n",
    "        #self.fc4 = nn.Linear(128, 2)\n",
    "        self.act = nn.ReLU()\n",
    "\n",
    "    def forward(self,x, x1, x2):\n",
    "        x = x.flatten(start_dim=1)\n",
    "        #x = torch.cat((x, x1), axis=1)\n",
    "        x = self.fc1(x)\n",
    "        x = self.act(x) \n",
    "        x = torch.cat((x, x1, x2), axis=1)\n",
    "        x = self.fc2(x)\n",
    "        x = self.act(x)\n",
    "        x = self.fc3(x)\n",
    "        #x = self.fc1(x)\n",
    "        #x = self.act(x)\n",
    "        #x = self.fc2(x)\n",
    "        #x = self.act(x)\n",
    "        #x = self.fc3(x)\n",
    "        #x = self.act(x)\n",
    "        #x = self.fc4(x)\n",
    "        return x"
   ]
  },
  {
   "cell_type": "code",
   "execution_count": 32,
   "id": "f1084390",
   "metadata": {},
   "outputs": [
    {
     "name": "stdout",
     "output_type": "stream",
     "text": [
      "blocks.0.neuron.current_decay torch.Size([1])\n",
      "blocks.0.neuron.voltage_decay torch.Size([1])\n",
      "blocks.0.delay.delay torch.Size([1])\n",
      "blocks.0.input_synapse.weight_g torch.Size([64, 1, 1, 1, 1])\n",
      "blocks.0.input_synapse.weight_v torch.Size([64, 32, 1, 1, 1])\n",
      "blocks.0.recurrent_synapse.weight_g torch.Size([64, 1, 1, 1, 1])\n",
      "blocks.0.recurrent_synapse.weight_v torch.Size([64, 64, 1, 1, 1])\n",
      "blocks.1.neuron.current_decay torch.Size([1])\n",
      "blocks.1.neuron.voltage_decay torch.Size([1])\n",
      "blocks.1.delay.delay torch.Size([1])\n",
      "blocks.1.synapse.weight_g torch.Size([128, 1, 1, 1, 1])\n",
      "blocks.1.synapse.weight_v torch.Size([128, 64, 1, 1, 1])\n",
      "blocks.2.neuron.current_decay torch.Size([1])\n",
      "blocks.2.neuron.voltage_decay torch.Size([1])\n",
      "blocks.2.synapse.weight_g torch.Size([2, 1, 1, 1, 1])\n",
      "blocks.2.synapse.weight_v torch.Size([2, 128, 1, 1, 1])\n"
     ]
    }
   ],
   "source": [
    "net_snn = Network(nb_inputs * 4, 2).to(device)\n",
    "net_dnn = DNNNetwork(2 * 100, 2).to(device)\n",
    "\n",
    "for name, weight in net_snn.named_parameters():\n",
    "    print(name, weight.shape)\n"
   ]
  },
  {
   "cell_type": "code",
   "execution_count": 33,
   "id": "bce4a5c2-38de-466c-ab45-ae78ecfc5307",
   "metadata": {},
   "outputs": [],
   "source": [
    "def NewLoss(output, target):\n",
    "    import torch\n",
    "    loss = (output - target)**2 / (target + 1e-6)**2\n",
    "    return torch.mean(loss)\n",
    "\n",
    "def train(trainloader, testloader, model, DNN_model, lr=2e-3, nb_epochs=10):\n",
    "    #params = [w1,w2]\n",
    "    params = list(model.parameters()) + list(DNN_model.parameters())\n",
    "    optimizer = torch.optim.Adam(params, lr=lr, betas=(0.9,0.999))\n",
    "    scheduler = torch.optim.lr_scheduler.StepLR(optimizer, step_size=100, gamma=0.1)\n",
    "    \n",
    "    #loss_fn = slayer.loss.SpikeTime(time_constant=2, filter_order=2, reduction='mean').to(device)\n",
    "    loss_fn = torch.nn.MSELoss()\n",
    "    #loss_fn = torch.nn.SmoothL1Loss()\n",
    "    loss_hist = []\n",
    "    DNN_model.train()\n",
    "    \n",
    "    \n",
    "    for e in range(nb_epochs):\n",
    "        print(e)\n",
    "        local_loss = []\n",
    "        for x_local, x1_local, x2_local, y_local in trainloader:\n",
    "            x_local = x_local.float().to(device)\n",
    "            x1_local = x1_local.float().to(device)\n",
    "            x2_local = x2_local.float().to(device)\n",
    "            y_local = y_local.float().to(device)\n",
    "    \n",
    "            #output = model(x_local)\n",
    "            #output = output.flatten(start_dim=1)\n",
    "            optimizer.zero_grad()\n",
    "            output = model(x_local)\n",
    "            output = DNN_model(output, x1_local, x2_local)\n",
    "            loss_val = loss_fn(output, y_local) \n",
    "            loss_val.backward()\n",
    "            #print(\"AAAA: \", DNN_model.fc2.weight)\n",
    "            #print(\"BBBB: \", DNN_model.fc1.weight.grad)\n",
    "            optimizer.step()\n",
    "            local_loss.append(loss_val.item())\n",
    "            \n",
    "        \n",
    "        #if e % 1 == 30 and e != 0:\n",
    "        #    print(\"Training accuracy: %.3f\"%(compute_ber(trainloader, net, \"train\")))\n",
    "        #    print(\"Test accuracy: %.3f\"%(compute_ber(testloader, net, name)))\n",
    "        scheduler.step()\n",
    "        mean_loss = np.mean(local_loss)\n",
    "        print(mean_loss)\n",
    "        #print(\"Epoch %i: loss=%.5f\"%(e+1,mean_loss))\n",
    "        loss_hist.append(mean_loss)\n",
    "        "
   ]
  },
  {
   "cell_type": "code",
   "execution_count": null,
   "id": "8f574380-3878-4cbd-9a38-19da46e5efdf",
   "metadata": {
    "tags": []
   },
   "outputs": [
    {
     "name": "stdout",
     "output_type": "stream",
     "text": [
      "0\n",
      "19086.22795234292\n",
      "1\n",
      "56.10892581131499\n",
      "2\n",
      "5.417029312101461\n",
      "3\n",
      "2.890116269305601\n",
      "4\n",
      "1.4263144297114874\n",
      "5\n",
      "0.6770637399059231\n",
      "6\n",
      "0.3195172616485822\n",
      "7\n",
      "0.16662079209493377\n",
      "8\n",
      "0.10983113344695608\n",
      "9\n",
      "0.09181043051056943\n",
      "10\n",
      "0.08659140835121526\n",
      "11\n",
      "0.0848815236556328\n",
      "12\n",
      "0.08445059002961143\n",
      "13\n",
      "0.08336226705272319\n",
      "14\n",
      "0.08262210901258356\n",
      "15\n",
      "0.08207596150242676\n",
      "16\n",
      "0.08197126373396081\n",
      "17\n",
      "0.08166809487393346\n",
      "18\n",
      "0.0823753335339538\n",
      "19\n",
      "0.08039930298671884\n",
      "20\n",
      "0.07965992706812035\n",
      "21\n",
      "0.0801417845285545\n",
      "22\n",
      "0.07838366610013832\n",
      "23\n"
     ]
    }
   ],
   "source": [
    "train(train_loader, train_loader, net_snn, net_dnn, lr=1e-3, nb_epochs=100)"
   ]
  },
  {
   "cell_type": "code",
   "execution_count": 28,
   "id": "808d7c6e",
   "metadata": {},
   "outputs": [],
   "source": [
    "net_snn.export_hdf5('./net_snn.net')\n",
    "torch.save(net_dnn.state_dict(), './net_dnn.pth')"
   ]
  },
  {
   "cell_type": "code",
   "execution_count": 24,
   "id": "f7acff8c-50b2-4bd2-93f8-b3106dddedbe",
   "metadata": {},
   "outputs": [
    {
     "name": "stderr",
     "output_type": "stream",
     "text": [
      "/tmp/ipykernel_101/168678358.py:8: UserWarning: To copy construct from a tensor, it is recommended to use sourceTensor.clone().detach() or sourceTensor.clone().detach().requires_grad_(True), rather than torch.tensor(sourceTensor).\n",
      "  target = torch.tensor(target).float()\n",
      "/tmp/ipykernel_101/168678358.py:9: UserWarning: To copy construct from a tensor, it is recommended to use sourceTensor.clone().detach() or sourceTensor.clone().detach().requires_grad_(True), rather than torch.tensor(sourceTensor).\n",
      "  input = torch.tensor(input).float()\n",
      "/tmp/ipykernel_101/168678358.py:10: UserWarning: To copy construct from a tensor, it is recommended to use sourceTensor.clone().detach() or sourceTensor.clone().detach().requires_grad_(True), rather than torch.tensor(sourceTensor).\n",
      "  input1 = torch.tensor(input1).float()\n",
      "/tmp/ipykernel_101/168678358.py:11: UserWarning: To copy construct from a tensor, it is recommended to use sourceTensor.clone().detach() or sourceTensor.clone().detach().requires_grad_(True), rather than torch.tensor(sourceTensor).\n",
      "  input2 = torch.tensor(input2).float()\n"
     ]
    },
    {
     "name": "stdout",
     "output_type": "stream",
     "text": [
      "0.18176498127340823\n"
     ]
    }
   ],
   "source": [
    "all_output = []\n",
    "inputs = []\n",
    "labels = []\n",
    "test_loader = DataLoader(dataset=test_data, batch_size=batch_size, shuffle=False, drop_last=False)\n",
    "for input, input1, input2, target in test_loader:\n",
    "    inputs.append(input)\n",
    "    labels.append(target)\n",
    "    target = torch.tensor(target).float()\n",
    "    input = torch.tensor(input).float()\n",
    "    input1 = torch.tensor(input1).float()\n",
    "    input2 = torch.tensor(input2).float()\n",
    "    \n",
    "    output = net_snn(input)\n",
    "    output = net_dnn(output, input1, input2).cpu().detach().numpy()\n",
    "    all_output.append(output)\n",
    "    \n",
    "all_output = np.concatenate(all_output, axis=0)\n",
    "ber = rc.my_test(all_output)\n",
    "print(ber)"
   ]
  },
  {
   "cell_type": "code",
   "execution_count": 11,
   "id": "11ee219a-952a-4395-b2a9-db85d18f17a3",
   "metadata": {},
   "outputs": [
    {
     "name": "stdout",
     "output_type": "stream",
     "text": [
      "tensor([[9., 9., 9.,  ..., 9., 9., 9.],\n",
      "        [9., 9., 9.,  ..., 9., 9., 9.],\n",
      "        [9., 9., 9.,  ..., 9., 9., 9.],\n",
      "        ...,\n",
      "        [9., 9., 9.,  ..., 9., 9., 9.],\n",
      "        [9., 9., 9.,  ..., 9., 9., 9.],\n",
      "        [9., 9., 9.,  ..., 9., 9., 9.]])\n"
     ]
    }
   ],
   "source": [
    "A1 = 8 * torch.ones((128, 8))\n",
    "A2 = torch.ones((128, 1))\n",
    "print(A1 + A2)"
   ]
  },
  {
   "cell_type": "code",
   "execution_count": null,
   "id": "66eebf40-ab07-4dda-9afb-3caa814cefa2",
   "metadata": {},
   "outputs": [],
   "source": []
  }
 ],
 "metadata": {
  "kernelspec": {
   "display_name": "d2l:Python",
   "language": "python",
   "name": "conda-env-d2l-py"
  },
  "language_info": {
   "codemirror_mode": {
    "name": "ipython",
    "version": 3
   },
   "file_extension": ".py",
   "mimetype": "text/x-python",
   "name": "python",
   "nbconvert_exporter": "python",
   "pygments_lexer": "ipython3",
   "version": "3.8.13"
  }
 },
 "nbformat": 4,
 "nbformat_minor": 5
}
